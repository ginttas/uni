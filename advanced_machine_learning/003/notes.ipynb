{
 "cells": [
  {
   "cell_type": "markdown",
   "metadata": {},
   "source": [
    "**2-3. Overfit demo, Pandas, Scikit-learn**\\\n",
    "**Polynomial curve (over)fitting demo**\\\n",
    "Available at: https://mantas.info/learn/curve-over-fitting/.\n",
    "\n",
    "You can open the Jupyter Notebook, upload it to Google Colab or your Jupyter installation and play with it interactively (e.g. change the number of data points, noise level, function to learn, etc.). I have uploaded it to Colab for your convenience [here](https://colab.research.google.com/drive/13ZnstQ58IuVMekPFTOFv8LG9vdwPQ-Ib?usp=sharing).\\\n",
    "It illustrates practically the concepts of overfitting and validation discussed in lectures; also a simple use of Jupyter, NumPy, and Matplotlib. You should more or less know by now how to do these things on your own. This notebook basically includes the first Lab task as a part of it.\n",
    "\n",
    "**Pandas**\\\n",
    "[Pandas](https://pandas.pydata.org/) is The Library for data science in Python (and beyond).\\\n",
    "A good Pandas tutorial and motivation from scratch is [this](https://www.learndatasci.com/tutorials/python-pandas-tutorial-complete-introduction-for-beginners/). You should go through it.\\\n",
    "You can find more Pandas tutorials and resources [here](https://pandas.pydata.org/pandas-docs/stable/getting_started/tutorials.html).\n",
    "\n",
    "**Scikit-learn**\\\n",
    "[Scikit-learn](https://scikit-learn.org/) is the library for (non-deep) machine learning in Python. It has most of the classical ML methods implemented [and much more](https://scikit-learn.org/stable/user_guide.html).\\\n",
    "For example, mentioned in the Lecture:\n",
    "* [Linear regression](https://scikit-learn.org/stable/modules/linear_model.html)\n",
    "* [Decision trees](https://scikit-learn.org/stable/modules/tree.html)\n",
    "* [k-Nearest neighbors](https://scikit-learn.org/stable/modules/neighbors.html)\n",
    "* [Support vector machines](https://scikit-learn.org/stable/modules/svm.html)\n",
    "\n",
    "**The task for Lab 2-3**\n",
    "1. Create a new notebook, comment it and all the actions below with markdown (a.k.a. text cells), and import Pandas.\n",
    "2. Load the World COVID-19 data from https://covid.ourworldindata.org/data/owid-covid-data.csv to a Pandas DataFrame. This is part of https://covid.ourworldindata.org/.\n",
    "3. Show what columns you have, basic row and column statistics.\n",
    "4. Aggregate the data for countries over time.\n",
    "5. Check how well you can predict excess_mortality from human_development_index by training (validating) and testing a machine learning model of your choice for this.\n",
    "\n",
    "----\n",
    "\n",
    "4. Aggregate the data for countries over time. -  Take the most recent value\n",
    "\n",
    "If you want something challenging, you can try to run Python on Docker containers. (With GPU support)"
   ]
  },
  {
   "cell_type": "code",
   "execution_count": null,
   "metadata": {},
   "outputs": [],
   "source": []
  },
  {
   "cell_type": "markdown",
   "metadata": {},
   "source": []
  }
 ],
 "metadata": {
  "kernelspec": {
   "display_name": "Python 3.10.7 64-bit (microsoft store)",
   "language": "python",
   "name": "python3"
  },
  "language_info": {
   "name": "python",
   "version": "3.10.7"
  },
  "orig_nbformat": 4,
  "vscode": {
   "interpreter": {
    "hash": "667a7d0ce390a48f63afb7aae6a889c6556871eaae12ddfa514ec638112817df"
   }
  }
 },
 "nbformat": 4,
 "nbformat_minor": 2
}
