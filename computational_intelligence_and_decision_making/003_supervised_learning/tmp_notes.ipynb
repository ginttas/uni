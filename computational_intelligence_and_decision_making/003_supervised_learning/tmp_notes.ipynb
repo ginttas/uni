{
 "cells": [
  {
   "cell_type": "markdown",
   "metadata": {},
   "source": [
    "2022-09-19\\\n",
    "Kaunas\n",
    "\n",
    "----\n",
    "\n",
    "Model can be:\n",
    "* Underfiting\n",
    "* Just right\n",
    "* Overfiting\n",
    "\n",
    "Methods to prevent overfitting\n",
    "* Cross validation\n",
    "* More data (data augmentation, …) \n",
    "* Remove irrelevant features\n",
    "* Early stopping\n",
    "* Regularization (weight decay, …)\n",
    "* Ensemble (collective decision)\n",
    "\n",
    "Different performance measurement techniques for different decision problems: classification, regression, object detection, image segmentation, ...\n",
    "\n",
    "Holdout method (Jei uztenka duomenu)\n",
    "* Train test split (70/30 60/40)\n",
    "* Validation set is used if data outside of the training set is required in order to tune particular aspect of the model, i. e. define combination of the most appropriate hyper parameters for the problem under consideration.\n",
    "\n",
    "Jei neuztenka, naudojema:\n",
    "* Leave p-out\n",
    "* k-Fold cross-validation\n",
    "* p-out skiresi nuo k-fold tom kad p-out pasirinkam skaldimo dydi, k-fold i kiek grupiu norim skaldyti\n",
    "* Bootstrapping - rng (In bootstrap k is mutch more larger than i k-fold)\n",
    "* out-of-time sampling\n",
    "\n",
    "----\n",
    "\n",
    "Metrikos:\n",
    "* Confusion matrix\n",
    "* MSE\n",
    "* RMSE\n",
    "* MAPE\n",
    "* mean absolute error, 𝑅^2\n",
    "\n",
    "----\n",
    "\n",
    "Dalis kalusimu egzamine bus is testu\n",
    "\n",
    "Kita paskaita\n",
    "\n",
    "----\n",
    "\n",
    "Decision Tree\n",
    "* Decision metrics for classification - Gini Index! (default)\\\n",
    "Entropy\n",
    "\n",
    "\n",
    "\n"
   ]
  },
  {
   "cell_type": "markdown",
   "metadata": {},
   "source": []
  }
 ],
 "metadata": {
  "kernelspec": {
   "display_name": "Python 3.10.7 64-bit (microsoft store)",
   "language": "python",
   "name": "python3"
  },
  "language_info": {
   "name": "python",
   "version": "3.10.7"
  },
  "orig_nbformat": 4,
  "vscode": {
   "interpreter": {
    "hash": "667a7d0ce390a48f63afb7aae6a889c6556871eaae12ddfa514ec638112817df"
   }
  }
 },
 "nbformat": 4,
 "nbformat_minor": 2
}
