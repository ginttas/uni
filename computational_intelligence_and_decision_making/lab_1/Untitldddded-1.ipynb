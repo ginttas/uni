{
 "cells": [
  {
   "cell_type": "markdown",
   "metadata": {},
   "source": [
    "Problem: based on the given data of historical real estate transactions create the decision-making model (DMM) which aims to predict prices of new real estate objects.\n",
    "\n",
    "Project workflow:\n",
    "* P1. Perform given data analysis and preprocessing\n",
    "* P2. Implement K-Nearest Neighbors (KNN), Decision tree (DT), and random forest (RF) algorithms (You cannot use library functions for these algorithms)\n",
    "* P3. Use implemented algorithms to create DMM for the given problem and evaluate the results.\n",
    "* P4. Use “scikit-learn” (or other) library functions for the same algorithms and evaluate the results.\n",
    "* P5. Write conclusions.\n",
    "\n",
    "Data:\n",
    "* historicalData.tsv – data to create the DMMs.\n",
    "* newData.tsv – assume, that you don’t have this data. We use this data only to evaluate (during work defense) how DMM model works with unseen data.\n",
    "\n",
    "\n",
    "Workflow requirements in detail\n",
    "\n",
    "P1. Data analysis and preprocessing\n",
    "* determine data types of features.\n",
    "* provide data quality report for all features (analyze categorical and continuous features separately). The form of the report is given in slides (Input Analysis).\n",
    "* provide distribution characteristics (histogram, frequency table, bar plot, box plot, pie chart …) based on the data type for each feature. For numerical features, explore the shape of distribution, perform standardization or normalization. Consider the normality of data.\n",
    "* comment whether it is possible to include derived features (ratios, flags, mapping, etc.) and append Analytics Base Table (ABT) if needed. \n",
    "* perform data preprocessing actions if You think it is necessary\n",
    "\n",
    "P2. Implementation of KNN, DT, and RF\n",
    "* Requirements for algorithms (parameters to change)\n",
    "    * KNN – k value\n",
    "    * DT – minSamplesLeaf; maxDepth.\n",
    "    * RF – nEstimators;\n",
    "* Implementation can be based on lectures or online materials, but references to the original source (if used) are necessary. Student must be able to comment any line (even if it is used from examples or other materials).\n",
    "\n",
    "P3 and P4.\n",
    "* Creating DMM means to select optimal hyper-parameters and perform output analysis.\n",
    "* Evaluate results using MAE, MAPE metrics.\n",
    "* Scikit-learn library models:\n",
    "    * https://scikit-learn.org/stable/modules/generated/sklearn.neighbors.KNeighborsClassifier.html\n",
    "    * https://scikit-learn.org/stable/modules/tree.html\n",
    "    * https://scikit-learn.org/stable/modules/generated/sklearn.ensemble.RandomForestClassifier.html\n",
    "\n",
    "P5. Work conclusions\n",
    "* compare the results of DMMs that use Your implementation and “scikit-learn” library.\n",
    "\n",
    "Original data set available at: https://www.kaggle.com/competitions/house-prices-advanced-regression-techniques"
   ]
  },
  {
   "cell_type": "code",
   "execution_count": 3,
   "metadata": {},
   "outputs": [],
   "source": [
    "import csv\n",
    "import pandas\n",
    "import numpy\n",
    "from tabulate import tabulate"
   ]
  },
  {
   "cell_type": "code",
   "execution_count": 4,
   "metadata": {},
   "outputs": [
    {
     "data": {
      "text/html": [
       "<div>\n",
       "<style scoped>\n",
       "    .dataframe tbody tr th:only-of-type {\n",
       "        vertical-align: middle;\n",
       "    }\n",
       "\n",
       "    .dataframe tbody tr th {\n",
       "        vertical-align: top;\n",
       "    }\n",
       "\n",
       "    .dataframe thead th {\n",
       "        text-align: right;\n",
       "    }\n",
       "</style>\n",
       "<table border=\"1\" class=\"dataframe\">\n",
       "  <thead>\n",
       "    <tr style=\"text-align: right;\">\n",
       "      <th></th>\n",
       "      <th>LotFrontage</th>\n",
       "      <th>LotArea</th>\n",
       "      <th>Street</th>\n",
       "      <th>Neighborhood</th>\n",
       "      <th>YearBuilt</th>\n",
       "      <th>YearRemodAdd</th>\n",
       "      <th>CentralAir</th>\n",
       "      <th>PavedDrive</th>\n",
       "      <th>SaleCondition</th>\n",
       "      <th>SalePrice</th>\n",
       "    </tr>\n",
       "    <tr>\n",
       "      <th>Id</th>\n",
       "      <th></th>\n",
       "      <th></th>\n",
       "      <th></th>\n",
       "      <th></th>\n",
       "      <th></th>\n",
       "      <th></th>\n",
       "      <th></th>\n",
       "      <th></th>\n",
       "      <th></th>\n",
       "      <th></th>\n",
       "    </tr>\n",
       "  </thead>\n",
       "  <tbody>\n",
       "    <tr>\n",
       "      <th>1</th>\n",
       "      <td>65</td>\n",
       "      <td>8450</td>\n",
       "      <td>Pave</td>\n",
       "      <td>CollgCr</td>\n",
       "      <td>2003</td>\n",
       "      <td>2003</td>\n",
       "      <td>Y</td>\n",
       "      <td>Y</td>\n",
       "      <td>Normal</td>\n",
       "      <td>208500</td>\n",
       "    </tr>\n",
       "    <tr>\n",
       "      <th>2</th>\n",
       "      <td>80</td>\n",
       "      <td>9600</td>\n",
       "      <td>Pave</td>\n",
       "      <td>Veenker</td>\n",
       "      <td>1976</td>\n",
       "      <td>1976</td>\n",
       "      <td>Y</td>\n",
       "      <td>Y</td>\n",
       "      <td>Normal</td>\n",
       "      <td>181500</td>\n",
       "    </tr>\n",
       "    <tr>\n",
       "      <th>3</th>\n",
       "      <td>68</td>\n",
       "      <td>11250</td>\n",
       "      <td>Pave</td>\n",
       "      <td>CollgCr</td>\n",
       "      <td>2001</td>\n",
       "      <td>2002</td>\n",
       "      <td>Y</td>\n",
       "      <td>Y</td>\n",
       "      <td>Normal</td>\n",
       "      <td>223500</td>\n",
       "    </tr>\n",
       "    <tr>\n",
       "      <th>4</th>\n",
       "      <td>60</td>\n",
       "      <td>9550</td>\n",
       "      <td>Pave</td>\n",
       "      <td>Crawfor</td>\n",
       "      <td>1915</td>\n",
       "      <td>1970</td>\n",
       "      <td>Y</td>\n",
       "      <td>Y</td>\n",
       "      <td>Abnorml</td>\n",
       "      <td>140000</td>\n",
       "    </tr>\n",
       "    <tr>\n",
       "      <th>5</th>\n",
       "      <td>84</td>\n",
       "      <td>14260</td>\n",
       "      <td>Pave</td>\n",
       "      <td>NoRidge</td>\n",
       "      <td>2000</td>\n",
       "      <td>2000</td>\n",
       "      <td>Y</td>\n",
       "      <td>Y</td>\n",
       "      <td>Normal</td>\n",
       "      <td>250000</td>\n",
       "    </tr>\n",
       "    <tr>\n",
       "      <th>...</th>\n",
       "      <td>...</td>\n",
       "      <td>...</td>\n",
       "      <td>...</td>\n",
       "      <td>...</td>\n",
       "      <td>...</td>\n",
       "      <td>...</td>\n",
       "      <td>...</td>\n",
       "      <td>...</td>\n",
       "      <td>...</td>\n",
       "      <td>...</td>\n",
       "    </tr>\n",
       "    <tr>\n",
       "      <th>995</th>\n",
       "      <td>96</td>\n",
       "      <td>12456</td>\n",
       "      <td>Pave</td>\n",
       "      <td>NridgHt</td>\n",
       "      <td>2006</td>\n",
       "      <td>2007</td>\n",
       "      <td>Y</td>\n",
       "      <td>Y</td>\n",
       "      <td>Normal</td>\n",
       "      <td>337500</td>\n",
       "    </tr>\n",
       "    <tr>\n",
       "      <th>996</th>\n",
       "      <td>51</td>\n",
       "      <td>4712</td>\n",
       "      <td>Pave</td>\n",
       "      <td>BrkSide</td>\n",
       "      <td>1946</td>\n",
       "      <td>1950</td>\n",
       "      <td>Y</td>\n",
       "      <td>Y</td>\n",
       "      <td>Abnorml</td>\n",
       "      <td>121600</td>\n",
       "    </tr>\n",
       "    <tr>\n",
       "      <th>997</th>\n",
       "      <td>NA</td>\n",
       "      <td>10659</td>\n",
       "      <td>Pave</td>\n",
       "      <td>NAmes</td>\n",
       "      <td>1961</td>\n",
       "      <td>1961</td>\n",
       "      <td>Y</td>\n",
       "      <td>Y</td>\n",
       "      <td>Normal</td>\n",
       "      <td>136500</td>\n",
       "    </tr>\n",
       "    <tr>\n",
       "      <th>998</th>\n",
       "      <td>NA</td>\n",
       "      <td>11717</td>\n",
       "      <td>Pave</td>\n",
       "      <td>NWAmes</td>\n",
       "      <td>1970</td>\n",
       "      <td>1970</td>\n",
       "      <td>Y</td>\n",
       "      <td>Y</td>\n",
       "      <td>Normal</td>\n",
       "      <td>185000</td>\n",
       "    </tr>\n",
       "    <tr>\n",
       "      <th>999</th>\n",
       "      <td>60</td>\n",
       "      <td>9786</td>\n",
       "      <td>Pave</td>\n",
       "      <td>IDOTRR</td>\n",
       "      <td>1922</td>\n",
       "      <td>1950</td>\n",
       "      <td>N</td>\n",
       "      <td>P</td>\n",
       "      <td>Normal</td>\n",
       "      <td>91000</td>\n",
       "    </tr>\n",
       "  </tbody>\n",
       "</table>\n",
       "<p>999 rows × 10 columns</p>\n",
       "</div>"
      ],
      "text/plain": [
       "    LotFrontage LotArea Street Neighborhood YearBuilt YearRemodAdd CentralAir  \\\n",
       "Id                                                                              \n",
       "1            65    8450   Pave      CollgCr      2003         2003          Y   \n",
       "2            80    9600   Pave      Veenker      1976         1976          Y   \n",
       "3            68   11250   Pave      CollgCr      2001         2002          Y   \n",
       "4            60    9550   Pave      Crawfor      1915         1970          Y   \n",
       "5            84   14260   Pave      NoRidge      2000         2000          Y   \n",
       "..          ...     ...    ...          ...       ...          ...        ...   \n",
       "995          96   12456   Pave      NridgHt      2006         2007          Y   \n",
       "996          51    4712   Pave      BrkSide      1946         1950          Y   \n",
       "997          NA   10659   Pave        NAmes      1961         1961          Y   \n",
       "998          NA   11717   Pave       NWAmes      1970         1970          Y   \n",
       "999          60    9786   Pave       IDOTRR      1922         1950          N   \n",
       "\n",
       "    PavedDrive SaleCondition SalePrice  \n",
       "Id                                      \n",
       "1            Y        Normal    208500  \n",
       "2            Y        Normal    181500  \n",
       "3            Y        Normal    223500  \n",
       "4            Y       Abnorml    140000  \n",
       "5            Y        Normal    250000  \n",
       "..         ...           ...       ...  \n",
       "995          Y        Normal    337500  \n",
       "996          Y       Abnorml    121600  \n",
       "997          Y        Normal    136500  \n",
       "998          Y        Normal    185000  \n",
       "999          P        Normal     91000  \n",
       "\n",
       "[999 rows x 10 columns]"
      ]
     },
     "execution_count": 4,
     "metadata": {},
     "output_type": "execute_result"
    }
   ],
   "source": [
    "with open(\"../data/historicalData.tsv\") as fd:\n",
    "    data = list(csv.reader(fd, delimiter=\"\\t\"))\n",
    "    cols = data[0]\n",
    "    data = data[1:]\n",
    "    df = pandas.DataFrame(data, columns=cols)\n",
    "    df = df.set_index(\"Id\")\n",
    "df"
   ]
  },
  {
   "cell_type": "code",
   "execution_count": 5,
   "metadata": {},
   "outputs": [],
   "source": [
    "#df = pandas.read_csv(\"../data/historicalData.tsv\", index_col = \"Id\", na_values=['NA'], sep=\"\\t\")\n",
    "#df"
   ]
  },
  {
   "cell_type": "markdown",
   "metadata": {},
   "source": [
    "* Continuous\n",
    "    * LotFrontage\n",
    "    * LotArea\n",
    "    * YearBuilt\n",
    "    * YearRemodAdd\n",
    "    * SalePrice\n",
    "\n",
    "* Categorical\n",
    "    * Street\n",
    "    * Neighborhood\n",
    "    * CentralAir\n",
    "    * PavedDrive\n",
    "    * SaleCondition"
   ]
  },
  {
   "cell_type": "code",
   "execution_count": 6,
   "metadata": {},
   "outputs": [],
   "source": [
    "continuous = [\"LotFrontage\", \"LotArea\", \"YearBuilt\", \"YearRemodAdd\", \"SalePrice\"]\n",
    "categorical = [\"Street\", \"Neighborhood\", \"CentralAir\", \"PavedDrive\", \"SaleCondition\"]"
   ]
  },
  {
   "cell_type": "code",
   "execution_count": 7,
   "metadata": {},
   "outputs": [],
   "source": [
    "df[continuous] = df[continuous].apply(pandas.to_numeric, errors='coerce')"
   ]
  },
  {
   "cell_type": "code",
   "execution_count": 8,
   "metadata": {},
   "outputs": [
    {
     "name": "stdout",
     "output_type": "stream",
     "text": [
      "            name     type  count  missing  cardinality      min       max  \\\n",
      "0    LotFrontage  float64    999     0.17          103     21.0     313.0   \n",
      "1        LotArea    int64    999     0.00          780   1300.0  215245.0   \n",
      "2      YearBuilt    int64    999     0.00          107   1880.0    2010.0   \n",
      "3   YearRemodAdd    int64    999     0.00           61   1950.0    2010.0   \n",
      "4      SalePrice    int64    999     0.00          536  34900.0  755000.0   \n",
      "5         Street   object    999     0.00            2      NaN       NaN   \n",
      "6   Neighborhood   object    999     0.00           25      NaN       NaN   \n",
      "7     CentralAir   object    999     0.00            2      NaN       NaN   \n",
      "8     PavedDrive   object    999     0.02            3      NaN       NaN   \n",
      "9  SaleCondition   object    999     0.00            6      NaN       NaN   \n",
      "\n",
      "        mean    median       std        q1        q2        q3    mode  \\\n",
      "0      69.96      70.0     23.22      60.0      70.0      80.0    None   \n",
      "1   10695.11    9452.0  11417.71    7589.0    9452.0   11632.0    None   \n",
      "2    1971.60    1974.0     30.00    1954.0    1974.0    2000.0    None   \n",
      "3    1985.26    1994.0     20.41    1967.0    1994.0    2004.0    None   \n",
      "4  182260.71  163990.0  80327.92  130000.0  163990.0  215000.0    None   \n",
      "5        NaN       NaN       NaN       NaN       NaN       NaN    Pave   \n",
      "6        NaN       NaN       NaN       NaN       NaN       NaN   NAmes   \n",
      "7        NaN       NaN       NaN       NaN       NaN       NaN       Y   \n",
      "8        NaN       NaN       NaN       NaN       NaN       NaN       Y   \n",
      "9        NaN       NaN       NaN       NaN       NaN       NaN  Normal   \n",
      "\n",
      "   mode f  mode %    mode2  mode2 f  mode2 % cardinality_  \n",
      "0     NaN     NaN     None      NaN      NaN          (,)  \n",
      "1     NaN     NaN     None      NaN      NaN          (,)  \n",
      "2     NaN     NaN     None      NaN      NaN          (,)  \n",
      "3     NaN     NaN     None      NaN      NaN          (,)  \n",
      "4     NaN     NaN     None      NaN      NaN          (,)  \n",
      "5   995.0    1.00     Grvl      4.0     0.00    Pave|Grvl  \n",
      "6   152.0    0.15  CollgCr    100.0     0.10          ...  \n",
      "7   931.0    0.93        N     68.0     0.07          Y|N  \n",
      "8   917.0    0.92        N     61.0     0.06        Y|N|P  \n",
      "9   812.0    0.81  Partial     91.0     0.09          ...  \n"
     ]
    }
   ],
   "source": [
    "def xxx(col):\n",
    "    name = col.name\n",
    "    type = col.dtype\n",
    "    count = len(col)\n",
    "    missing = col.isna().sum()\n",
    "    cardinality_0 = col.unique()\n",
    "    cardinality = len(cardinality_0)\n",
    "\n",
    "    if type == \"object\":\n",
    "        if numpy.isin(\"P\", cardinality_0):\n",
    "            missing = sum(col == \"P\")\n",
    "        cardinality_ = \"|\".join(cardinality_0.tolist()) if cardinality <= 3 else \"...\"\n",
    "        value_counts = col.value_counts()\n",
    "\n",
    "        my_mode = value_counts.index.tolist()[0]\n",
    "        my_mode_c = value_counts[0]\n",
    "        my_mode_f = round(my_mode_c / count, 2)\n",
    "        my_mode2 = value_counts.index.tolist()[1]\n",
    "        my_mode_c2 = value_counts[1]\n",
    "        my_mode_f2 = round(my_mode_c2 / count, 2)\n",
    "    else:\n",
    "        cardinality_ = \"\",\n",
    "        my_mode = None\n",
    "        my_mode_c = None\n",
    "        my_mode_f = None\n",
    "        my_mode2 = None\n",
    "        my_mode_c2 = None\n",
    "        my_mode_f2 = None\n",
    "\n",
    "    my_min = None if type == \"object\" else round(col.min(), 2)\n",
    "    my_max = None if type == \"object\" else round(col.max(), 2)\n",
    "    my_mean = None if type == \"object\" else round(col.mean(), 2)\n",
    "    my_median = None if type == \"object\" else round(col.median(), 2)\n",
    "    my_std = None if type == \"object\" else round(col.std(), 2)\n",
    "    q1 = None if type == \"object\" else round(col.quantile(0.25), 2)\n",
    "    q2 = None if type == \"object\" else round(col.quantile(0.5), 2)\n",
    "    q3 = None if type == \"object\" else round(col.quantile(0.75), 2)\n",
    "\n",
    "    res = {\n",
    "        \"name\": name,\n",
    "        \"type\": type,\n",
    "        \"count\": count,\n",
    "        \"missing\": round(missing / count, 2),\n",
    "        \"cardinality\": cardinality,\n",
    "\n",
    "        \"min\": my_min,\n",
    "        \"max\": my_max,\n",
    "        \"mean\": my_mean,\n",
    "        \"median\": my_median,\n",
    "        \"std\": my_std,\n",
    "        \"q1\": q1,\n",
    "        \"q2\": q2,\n",
    "        \"q3\": q3,\n",
    "\n",
    "        \"mode\": my_mode,\n",
    "        \"mode f\": my_mode_c,\n",
    "        \"mode %\": my_mode_f,\n",
    "        \"mode2\": my_mode2,\n",
    "        \"mode2 f\": my_mode_c2,\n",
    "        \"mode2 %\": my_mode_f2,\n",
    "        \"cardinality_\": cardinality_\n",
    "    }\n",
    "    return(res)\n",
    "\n",
    "res = pandas.DataFrame([xxx(df[col]) for col in continuous + categorical])\n",
    "tmp = res.to_markdown()\n",
    "\n",
    "print(res)\n",
    "\n",
    "f = open(\"data_analysis.md\", \"a\")\n",
    "f.write(tmp)\n",
    "f.close()"
   ]
  },
  {
   "cell_type": "markdown",
   "metadata": {},
   "source": [
    "|    | name          | type    |   count |   missing |   cardinality |   min |    max |      mean |   median |      std |     q1 |     q2 |     q3 | mode   |   mode f |   mode % | mode2   |   mode2 f |   mode2 % | cardinality_   |\n",
    "|---:|:--------------|:--------|--------:|----------:|--------------:|------:|-------:|----------:|---------:|---------:|-------:|-------:|-------:|:-------|---------:|---------:|:--------|----------:|----------:|:---------------|\n",
    "|  0 | LotFrontage   | float64 |     999 |      0.17 |           103 |    21 |    313 |     69.96 |       70 |    23.22 |     60 |     70 |     80 |        |      nan |   nan    |         |       nan |    nan    | ('',)          |\n",
    "|  1 | LotArea       | int64   |     999 |      0    |           780 |  1300 | 215245 |  10695.1  |     9452 | 11417.7  |   7589 |   9452 |  11632 |        |      nan |   nan    |         |       nan |    nan    | ('',)          |\n",
    "|  2 | YearBuilt     | int64   |     999 |      0    |           107 |  1880 |   2010 |   1971.6  |     1974 |    30    |   1954 |   1974 |   2000 |        |      nan |   nan    |         |       nan |    nan    | ('',)          |\n",
    "|  3 | YearRemodAdd  | int64   |     999 |      0    |            61 |  1950 |   2010 |   1985.26 |     1994 |    20.41 |   1967 |   1994 |   2004 |        |      nan |   nan    |         |       nan |    nan    | ('',)          |\n",
    "|  4 | SalePrice     | int64   |     999 |      0    |           536 | 34900 | 755000 | 182261    |   163990 | 80327.9  | 130000 | 163990 | 215000 |        |      nan |   nan    |         |       nan |    nan    | ('',)          |\n",
    "|  5 | Street        | object  |     999 |      0    |             2 |   nan |    nan |    nan    |      nan |   nan    |    nan |    nan |    nan | Pave   |      995 |     1    | Grvl    |         4 |      0    | Pave|Grvl      |\n",
    "|  6 | Neighborhood  | object  |     999 |      0    |            25 |   nan |    nan |    nan    |      nan |   nan    |    nan |    nan |    nan | NAmes  |      152 |     0.15 | CollgCr |       100 |      0.1  | ...            |\n",
    "|  7 | CentralAir    | object  |     999 |      0    |             2 |   nan |    nan |    nan    |      nan |   nan    |    nan |    nan |    nan | Y      |      931 |     0.93 | N       |        68 |      0.07 | Y|N            |\n",
    "|  8 | PavedDrive    | object  |     999 |      0.02 |             3 |   nan |    nan |    nan    |      nan |   nan    |    nan |    nan |    nan | Y      |      917 |     0.92 | N       |        61 |      0.06 | Y|N|P          |\n",
    "|  9 | SaleCondition | object  |     999 |      0    |             6 |   nan |    nan |    nan    |      nan |   nan    |    nan |    nan |    nan | Normal |      812 |     0.81 | Partial |        91 |      0.09 | ...            |"
   ]
  },
  {
   "cell_type": "markdown",
   "metadata": {},
   "source": [
    "To do:\n",
    "* continuous Standardize data\n",
    "* categorize categorical data\n",
    "* remove missing LotFrontage and PavedDrive data\n",
    "* Drop street column (995/999 is Pave)\n",
    "* (Only use other categorical (if results are bad) (except for Neighborhood))"
   ]
  },
  {
   "cell_type": "markdown",
   "metadata": {},
   "source": [
    "res"
   ]
  },
  {
   "cell_type": "code",
   "execution_count": 9,
   "metadata": {},
   "outputs": [
    {
     "name": "stdout",
     "output_type": "stream",
     "text": [
      "994\n"
     ]
    },
    {
     "data": {
      "image/png": "[encoded data removed]",
      "text/plain": [
       "<Figure size 1600x600 with 2 Axes>"
      ]
     },
     "metadata": {},
     "output_type": "display_data"
    }
   ],
   "source": [
    "# [\"LotFrontage\",  - YES log\n",
    "# \"LotArea\",  - YES log\n",
    "# \"YearBuilt\", - NO\n",
    "# \"YearRemodAdd\",  - NO\n",
    "# \"SalePrice\"] - YES\n",
    "name = \"SalePrice\"\n",
    "\n",
    "std_n = 4\n",
    "\n",
    "a000 = df[name]\n",
    "a001 = res[res[\"name\"] == name]\n",
    "minstd4 = a001[\"mean\"] - a001[\"std\"] * std_n\n",
    "minstd4 = minstd4.to_list()[0]\n",
    "maxstd4 = a001[\"mean\"] + a001[\"std\"] * std_n\n",
    "maxstd4 = maxstd4.to_list()[0]\n",
    "\n",
    "\n",
    "a002 = a000[(minstd4 <= a000) & (a000 <= maxstd4)]\n",
    "\n",
    "import matplotlib.pyplot as plt\n",
    "fig, axs = plt.subplots(1, 2, sharey=True, figsize=(16, 6))\n",
    "bins = 60\n",
    "axs[0].hist(a000, bins=bins)\n",
    "axs[1].hist(a002, bins=bins)\n",
    "plt.plot()\n",
    "print(len(a002))"
   ]
  },
  {
   "cell_type": "code",
   "execution_count": 40,
   "metadata": {},
   "outputs": [
    {
     "data": {
      "text/plain": [
       "761"
      ]
     },
     "execution_count": 40,
     "metadata": {},
     "output_type": "execute_result"
    },
    {
     "data": {
      "image/png": "[encoded data removed]",
      "text/plain": [
       "<Figure size 1600x600 with 2 Axes>"
      ]
     },
     "metadata": {},
     "output_type": "display_data"
    }
   ],
   "source": [
    "# [\"LotFrontage\",  - YES log\n",
    "# \"LotArea\",  - YES log\n",
    "# \"YearBuilt\", - NO\n",
    "# \"YearRemodAdd\",  - NO\n",
    "# \"SalePrice\"] - YES\n",
    "name = \"SalePrice\"\n",
    "std_n = 3\n",
    "\n",
    "def reduce(v, bv, std_n, n):\n",
    "    tmp = v[bv]\n",
    "    std = tmp.std()\n",
    "    mean = tmp.mean()\n",
    "    minstd = mean - std * std_n\n",
    "    maxstd = mean + std * std_n\n",
    "    res = (minstd <= v) & (v <= maxstd)\n",
    "    #print(sum(res))\n",
    "    if(sum(res) == n): return(res)\n",
    "    return(reduce(v, res, std_n, sum(res)))\n",
    "\n",
    "bv = [True] * len(df[name])\n",
    "res = df[name][reduce(df[name], bv, std_n, len(df[name]))]\n",
    "\n",
    "import matplotlib.pyplot as plt\n",
    "fig, axs = plt.subplots(1, 2, sharey=True, figsize=(16, 6))\n",
    "bins = 60\n",
    "axs[0].hist(df[name], bins=bins)\n",
    "axs[1].hist(res, bins=bins)\n",
    "plt.plot()\n",
    "#print(len(res))\n",
    "\n",
    "\n",
    "for i in continuous:\n",
    "    bv = bv & reduce(df[i], bv, std_n, len(df[name]))\n",
    "\n",
    "sum(bv)"
   ]
  },
  {
   "cell_type": "code",
   "execution_count": 7,
   "metadata": {},
   "outputs": [
    {
     "name": "stdout",
     "output_type": "stream",
     "text": [
      "           name     type  count  missing  cardinality   min    max  mean  \\\n",
      "0   LotFrontage  float64    999     0.17          103 -2.11  10.47 -0.00   \n",
      "1       LotArea  float64    999     0.00          780 -0.71  18.02  0.11   \n",
      "2     YearBuilt  float64    999     0.00          107 -3.13   1.20 -0.08   \n",
      "3  YearRemodAdd  float64    999     0.00           61 -2.16   0.78 -0.43   \n",
      "4     SalePrice  float64    999     0.00          536 -1.61   7.36  0.23   \n",
      "\n",
      "   median  std    q1   q2    q3  mode mode f mode % mode2 mode2 f mode2 %  \\\n",
      "0     0.0  1.0 -0.43  0.0  0.43  None   None   None  None    None    None   \n",
      "1     0.0  1.0 -0.16  0.0  0.19  None   None   None  None    None    None   \n",
      "2     0.0  1.0 -0.67  0.0  0.87  None   None   None  None    None    None   \n",
      "3     0.0  1.0 -1.32  0.0  0.49  None   None   None  None    None    None   \n",
      "4     0.0  1.0 -0.42  0.0  0.64  None   None   None  None    None    None   \n",
      "\n",
      "  cardinality_  \n",
      "0          (,)  \n",
      "1          (,)  \n",
      "2          (,)  \n",
      "3          (,)  \n",
      "4          (,)  \n"
     ]
    }
   ],
   "source": [
    "df_2 = df[continuous]\n",
    "\n",
    "def yyy(col):\n",
    "    median = col.median()\n",
    "    std = col.std()\n",
    "\n",
    "    col = (col - median) / std\n",
    "\n",
    "    return(col)\n",
    "\n",
    "df_2 = df_2.apply(yyy, 0)\n",
    "\n",
    "res = pandas.DataFrame([xxx(df_2[col]) for col in continuous])\n",
    "print(res)"
   ]
  },
  {
   "cell_type": "markdown",
   "metadata": {},
   "source": [
    "**Mean had no correlation with log scale (The problem was that i used apply incorrectly) but min max disbalance after stardatizadion has correlatino**\n",
    "\n",
    "\n",
    "could Sale price be logarithmic? I am asking this couse of mean of 2.20\\\n",
    "No\n",
    "\n",
    "But, there are som outliers and prices are split into to sections at [2.0 and 2.3]\n",
    "\n",
    "-----\n",
    "\n",
    "When i changed to plots before standardization the plots are mulch clearer now (and indeed the price is logarithmic)\n",
    "\n",
    "My assumption is that standardization took away lots of numerical precision (And also squeezing data into -1 to 1 makes everything mutch more dense)\n",
    "\n",
    "----\n",
    "\n",
    "After checking mean again LotArea  also looks a bit stage (0.10)\\\n",
    "Yes!!!\n",
    "\n",
    "-----\n",
    "\n",
    "We can also check it with other variables, but they seem fine\\\n",
    "LotFrontage is also log"
   ]
  },
  {
   "cell_type": "code",
   "execution_count": 8,
   "metadata": {},
   "outputs": [
    {
     "data": {
      "text/plain": [
       "<matplotlib.legend.Legend at 0x18bfa770e80>"
      ]
     },
     "execution_count": 8,
     "metadata": {},
     "output_type": "execute_result"
    },
    {
     "data": {
      "image/png": "[encoded data removed]",
      "text/plain": [
       "<Figure size 640x480 with 4 Axes>"
      ]
     },
     "metadata": {},
     "output_type": "display_data"
    }
   ],
   "source": [
    "import matplotlib.pyplot as plt\n",
    "import math\n",
    "\n",
    "fig, axs = plt.subplots(2, 2, sharey=True)\n",
    "\n",
    "tmp = df[\"SalePrice\"]\n",
    "#tmp = tmp[tmp >= 1.75]\n",
    "\n",
    "axs[0][0].hist(tmp, bins=1000)\n",
    "axs[0][1].hist([math.log(i, 2) for i in tmp], bins=100)\n",
    "\n",
    "tmp2 = df[\"LotArea\"]\n",
    "\n",
    "axs[1][0].hist(tmp2, bins=1000, label = \"LotArea\")\n",
    "axs[1][1].hist([math.log(i, 2) for i in tmp2], bins=100, label = \"LotArea Log\")\n",
    "\n",
    "plt.plot()\n",
    "plt.legend()\n"
   ]
  },
  {
   "cell_type": "code",
   "execution_count": 34,
   "metadata": {},
   "outputs": [
    {
     "data": {
      "text/plain": [
       "[]"
      ]
     },
     "execution_count": 34,
     "metadata": {},
     "output_type": "execute_result"
    },
    {
     "data": {
      "image/png": "[encoded data removed]",
      "text/plain": [
       "<Figure size 1600x600 with 3 Axes>"
      ]
     },
     "metadata": {},
     "output_type": "display_data"
    }
   ],
   "source": [
    "fig, axs = plt.subplots(1, 3, sharey=True, figsize=(16, 6))\n",
    "\n",
    "# [\"LotFrontage\",  - YES log\n",
    "# \"LotArea\",  - YES log\n",
    "# \"YearBuilt\", - NO\n",
    "# \"YearRemodAdd\",  - NO\n",
    "# \"SalePrice\"] - YES\n",
    "tmp = df[\"LotFrontage\"]\n",
    "\n",
    "tmp = tmp[tmp < 130]\n",
    "\n",
    "bins = 100\n",
    "axs[0].hist(tmp, bins=bins)\n",
    "axs[1].hist([math.log(i, 2) for i in tmp], bins=bins)\n",
    "axs[2].hist([math.sqrt(i) for i in tmp], bins=bins)\n",
    "\n",
    "plt.plot()"
   ]
  },
  {
   "cell_type": "code",
   "execution_count": 270,
   "metadata": {},
   "outputs": [
    {
     "name": "stdout",
     "output_type": "stream",
     "text": [
      "           name     type  count  missing  cardinality   min   max  mean  \\\n",
      "0   LotFrontage  float64    999     0.17          103 -3.47  4.32 -0.16   \n",
      "1       LotArea  float64    999     0.00          780 -3.81  6.01 -0.07   \n",
      "2     YearBuilt  float64    999     0.00          107 -3.13  1.20 -0.08   \n",
      "3  YearRemodAdd  float64    999     0.00           61 -2.16  0.78 -0.43   \n",
      "4     SalePrice  float64    999     0.00          536 -3.81  3.76  0.05   \n",
      "\n",
      "   median  std    q1   q2    q3  mode mode f mode % mode2 mode2 f mode2 %  \\\n",
      "0     0.0  1.0 -0.44  0.0  0.38  None   None   None  None    None    None   \n",
      "1     0.0  1.0 -0.42  0.0  0.40  None   None   None  None    None    None   \n",
      "2     0.0  1.0 -0.67  0.0  0.87  None   None   None  None    None    None   \n",
      "3     0.0  1.0 -1.32  0.0  0.49  None   None   None  None    None    None   \n",
      "4     0.0  1.0 -0.57  0.0  0.67  None   None   None  None    None    None   \n",
      "\n",
      "  cardinality_  \n",
      "0          (,)  \n",
      "1          (,)  \n",
      "2          (,)  \n",
      "3          (,)  \n",
      "4          (,)  \n"
     ]
    }
   ],
   "source": [
    "df_3 = df[continuous]\n",
    "\n",
    "log_cols = [\"LotFrontage\", \"LotArea\", \"SalePrice\"]\n",
    "\n",
    "def to_standardization(col):\n",
    "    if numpy.isin(col.name, log_cols):\n",
    "        col = numpy.log(col)\n",
    "        #col = numpy.sqrt(col)\n",
    "    median = col.median()\n",
    "    std = col.std()\n",
    "    col = (col - median) / std\n",
    "    return(col)\n",
    "df_3 = df_3.apply(to_standardization, 0)\n",
    "\n",
    "res = pandas.DataFrame([xxx(df_3[col]) for col in continuous])\n",
    "print(res)"
   ]
  },
  {
   "cell_type": "code",
   "execution_count": 271,
   "metadata": {},
   "outputs": [
    {
     "data": {
      "text/plain": [
       "[]"
      ]
     },
     "execution_count": 271,
     "metadata": {},
     "output_type": "execute_result"
    },
    {
     "data": {
      "image/png": "[encoded data removed]",
      "text/plain": [
       "<Figure size 640x480 with 2 Axes>"
      ]
     },
     "metadata": {},
     "output_type": "display_data"
    }
   ],
   "source": [
    "fig, axs = plt.subplots(1, 2, sharey=True)\n",
    "\n",
    "# [\"LotFrontage\",  - YES log\n",
    "# \"LotArea\",  - YES log\n",
    "# \"YearBuilt\", - NO\n",
    "# \"YearRemodAdd\",  - NO\n",
    "# \"SalePrice\"] - YES\n",
    "field = \"LotArea\"\n",
    "\n",
    "tmp1 = df_3[field]\n",
    "tmp2 = df[field]\n",
    "bins = 50\n",
    "axs[0].hist(tmp1, bins=bins)\n",
    "axs[1].hist(tmp2, bins=bins)\n",
    "\n",
    "plt.plot()"
   ]
  },
  {
   "cell_type": "code",
   "execution_count": 274,
   "metadata": {},
   "outputs": [
    {
     "name": "stdout",
     "output_type": "stream",
     "text": [
      "[-0.7139787633602143, -0.6972503600479227, -0.6941849458283929, -0.6880541173893331, -0.6806971232624613, -0.6806971232624613, -0.6806971232624613, -0.6806971232624613, -0.6806971232624613, -0.6806971232624613, -0.6806971232624613, -0.6641438864770001, -0.6623046379452822, -0.6623046379452822, -0.659677140042828, -0.6582758078281857, -0.6570496421403739, -0.6525828957062018, -0.6424232371500456, -0.6424232371500456, -0.6291981643743596, -0.6281471652133779, -0.6281471652133779, -0.6273589158426417, -0.625694833837754, -0.625694833837754, -0.6134331769596345, -0.6088788472620473, -0.6069520154669142, -0.6069520154669142, -0.6050251836717812, -0.6025728522961573, -0.6008211870278545, -0.5961792740668521, -0.5956537744863613, -0.5944276087985494, -0.5749841243203885, -0.5650872155544777, -0.5642113829203264, -0.5587812205885877, -0.5493222281397527, -0.5491470616129224, -0.5491470616129224, -0.5491470616129224, -0.5491470616129224, -0.5491470616129224, -0.5479208959251105, -0.5479208959251105, -0.5449430649689957, -0.5449430649689957, -0.5319807419835552, -0.5212955838469082, -0.5125372575053943, -0.5121869244517336, -0.5059685127492588, -0.4880139437491553, -0.48433544668571943, -0.48433544668571943, -0.4817955320466804, -0.4790804508808111, -0.4737378718124876, -0.4724241228612605, -0.4661181278953705, -0.45788530113434744, -0.45788530113434744, -0.4555205530221387, -0.45350613796359046, -0.45298063838309965, -0.45280547185626935, -0.44352164593426463, -0.44247064677328296, -0.44220789698303753, -0.4401934819244893, -0.4401934819244893, -0.4394052325537531, -0.4394052325537531, -0.43914248276350765, -0.43914248276350765, -0.43756598402203517, -0.43371232043176905, -0.43371232043176905, -0.43371232043176905, -0.43371232043176905, -0.42749390872929416, -0.4258298267244065, -0.42425332798293397, -0.41873558238778025, -0.4151446685877595, -0.41181650457798424, -0.40743734140722726, -0.3966646000071652, -0.39622668369008945, -0.38992068872419944, -0.38992068872419944, -0.38992068872419944, -0.38992068872419944, -0.38992068872419944, -0.38449052639246084, -0.38440294312904566, -0.3811623623826855, -0.38072444606560985, -0.37949828037779787, -0.36960137161188716, -0.3661856243386967, -0.3631202101191669, -0.36276987706550634, -0.36101821179720356, -0.3592665465289008, -0.35585079925571034, -0.3553252996752195, -0.3548873833581438, -0.3548873833581438, -0.3461290570166299, -0.3461290570166299, -0.3443773917483271, -0.3385968963629279, -0.33737073067511597, -0.3370203976214554, -0.3300137365482443, -0.32975098675799885, -0.3268607390652993, -0.3212554102067304, -0.3207299106262395, -0.31810241272378537, -0.3176644964067097, -0.31109575165057424, -0.3089061700651958, -0.3089061700651958, -0.3023374253090603, -0.3023374253090603, -0.3023374253090603, -0.3023374253090603, -0.3023374253090603, -0.3023374253090603, -0.3023374253090603, -0.3023374253090603, -0.29883409477245476, -0.297082429504152, -0.29182743369924363, -0.29182743369924363, -0.29182743369924363, -0.29182743369924363, -0.29182743369924363, -0.29182743369924363, -0.29182743369924363, -0.2909516010650922, -0.28876201947971375, -0.2871855207382412, -0.28447043957237195, -0.28131744208942694, -0.28131744208942694, -0.28131744208942694, -0.28131744208942694, -0.28131744208942694, -0.27868994418697274, -0.2767631123918397, -0.2760624462845186, -0.27396044796255525, -0.2698440345820437, -0.26905578521130746, -0.2671289534161744, -0.2655524546747019, -0.2642387057234748, -0.2636256228795688, -0.253028048006337, -0.24978746725997683, -0.24978746725997683, -0.24724755262093778, -0.2355989785867243, -0.23507347900623346, -0.2340224798452518, -0.23297148068427012, -0.23051914930864623, -0.22762890161594662, -0.22719098529887094, -0.2237752380256805, -0.2235124882354351, -0.22254907233786855, -0.22088499033298092, -0.21825749243052675, -0.21738165979637536, -0.2165934104256391, -0.21536724473782715, -0.21475416189392119, -0.21475416189392119, -0.21475416189392119, -0.21344041294269409, -0.21317766315244865, -0.21317766315244865, -0.21317766315244865, -0.21317766315244865, -0.21265216357195782, -0.2119514974646367, -0.2103749987231642, -0.20984949914267337, -0.2094991660890128, -0.20914883303535226, -0.20354350417678335, -0.20301800459629252, -0.20284283806946224, -0.2016166723816503, -0.2013539225914049, -0.20056567322066862, -0.19942709079627183, -0.19898917447919612, -0.19723750921089334, -0.19723750921089334, -0.19723750921089334, -0.19723750921089334, -0.19723750921089334, -0.19723750921089334, -0.19723750921089334, -0.19723750921089334, -0.19723750921089334, -0.19723750921089334, -0.19723750921089334, -0.19723750921089334, -0.19723750921089334, -0.19723750921089334, -0.19723750921089334, -0.19723750921089334, -0.19723750921089334, -0.19662442636698738, -0.19496034436209972, -0.1948727610986846, -0.19338384562062721, -0.1926831795133061, -0.19207009666940014, -0.19163218035232443, -0.1883915996059643, -0.18734060044498263, -0.18725301718156748, -0.18567651844009497, -0.18497585233277386, -0.18077185568884718, -0.1805966891620169, -0.17980843979128067, -0.17796919125956273, -0.17796919125956273, -0.17639269251809023, -0.17569202641076911, -0.1754292766205237, -0.1734148615619755, -0.1709625301863516, -0.1709625301863516, -0.16789711596682172, -0.16745919964974604, -0.16570753438144326, -0.16421861890338588, -0.16325520300581936, -0.16308003647898908, -0.16308003647898908, -0.16255453689849825, -0.16229178710825282, -0.15957670594238352, -0.15852570678140185, -0.15712437456675962, -0.15546029256187197, -0.15475962645455085, -0.15344587750332378, -0.15248246160575724, -0.14976738043988794, -0.14906671433256682, -0.14906671433256682, -0.1483660482252457, -0.1483660482252457, -0.14512546747888555, -0.14468755116180987, -0.14468755116180987, -0.14468755116180987, -0.14468755116180987, -0.14468755116180987, -0.1430234691569222, -0.1429358858935071, -0.14083388757154375, -0.14022080472763776, -0.13934497209348637, -0.13925738883007124, -0.13811880640567442, -0.13811880640567442, -0.13811880640567442, -0.13776847335201386, -0.13662989092761707, -0.13662989092761707, -0.13444030934223858, -0.13417755955199318, -0.1340023930251629, -0.13330172691784178, -0.13321414365442663, -0.13321414365442663, -0.1326886440739358, -0.13216314449344496, -0.13198797796661468, -0.1280467311129334, -0.12717089847878202, -0.12717089847878202, -0.12682056542512146, -0.12611989931780035, -0.12611989931780035, -0.12611989931780035, -0.12156556962021313, -0.12121523656655257, -0.1210400700397223, -0.11937598803483465, -0.11841257213726812, -0.11841257213726812, -0.11666090686896534, -0.1165733236055502, -0.11639815707871992, -0.11622299055188964, -0.11622299055188964, -0.11622299055188964, -0.11622299055188964, -0.11622299055188964, -0.11622299055188964, -0.11315757633235977, -0.11289482654211436, -0.1121065771713781, -0.11175624411771755, -0.10991699558599963, -0.10982941232258449, -0.10974182905916935, -0.10965424579575421, -0.10658883157622433, -0.10580058220548808, -0.1056254156786578, -0.10545024915182752, -0.10545024915182752, -0.10527508262499724, -0.10256000145912793, -0.09966975376642834, -0.0991442541859375, -0.09748017218104986, -0.0951154240688411, -0.09275067595663235, -0.09213759311272637, -0.09213759311272637, -0.09213759311272637, -0.09213759311272637, -0.09213759311272637, -0.09213759311272637, -0.09213759311272637, -0.0919624265858961, -0.09169967679565068, -0.09169967679565068, -0.09126176047857498, -0.09091142742491443, -0.0895100952102722, -0.08775842994196942, -0.08775842994196942, -0.08775842994196942, -0.08775842994196942, -0.08775842994196942, -0.08775842994196942, -0.08679501404440289, -0.08670743078098775, -0.08600676467366664, -0.0859191814102515, -0.08583159814683636, -0.08556884835659094, -0.08513093203951524, -0.08513093203951524, -0.08451784919560927, -0.08337926677121246, -0.08337926677121246, -0.08337926677121246, -0.08162760150290968, -0.08162760150290968, -0.08162760150290968, -0.08154001823949454, -0.08083935213217343, -0.08075176886875829, -0.08057660234192801, -0.08022626928826745, -0.07952560318094634, -0.07952560318094634, -0.07952560318094634, -0.07935043665411606, -0.07523402327360453, -0.07462094042969855, -0.07173069273699896, -0.07155552621016868, -0.07111760989309299, -0.07111760989309299, -0.07111760989309299, -0.06954111115162048, -0.06481161492720297, -0.06481161492720297, -0.06481161492720297, -0.06323511618573045, -0.06262203334182448, -0.06253445007840934, -0.06235928355157907, -0.06227170028816393, -0.06148345091742768, -0.06148345091742768, -0.06148345091742768, -0.06148345091742768, -0.06104553460035198, -0.060607618283276286, -0.060607618283276286, -0.06016970196620059, -0.05999453543937031, -0.05946903585887948, -0.05911870280521892, -0.05911870280521892, -0.05911870280521892, -0.057892537117406974, -0.05754220406374642, -0.05710428774667072, -0.05710428774667072, -0.055878122058858774, -0.055702955532028496, -0.055702955532028496, -0.05535262247836794, -0.05412645679055599, -0.053075457629574316, -0.053075457629574316, -0.0528127078393289, -0.050360376463705, -0.050097626673459586, -0.04965971035638389, -0.04904662751247792, -0.04904662751247792, -0.04843354466857194, -0.046243963083193465, -0.046156379819778326, -0.04309096560024846, -0.04282821581000304, -0.04247788275634248, -0.04195238317585165, -0.04151446685877595, -0.040463467697794284, -0.03958763506364289, -0.03958763506364289, -0.03958763506364289, -0.03958763506364289, -0.03958763506364289, -0.03958763506364289, -0.03958763506364289, -0.03958763506364289, -0.03958763506364289, -0.03958763506364289, -0.03809871958558553, -0.03801113632217039, -0.03783596979534011, -0.03783596979534011, -0.03766080326850983, -0.03590913800020705, -0.0346829723123951, -0.034332639258734546, -0.03380713967824371, -0.03223064093677121, -0.03223064093677121, -0.031004475248959256, -0.030829308722128978, -0.030829308722128978, -0.030829308722128978, -0.030829308722128978, -0.030829308722128978, -0.030829308722128978, -0.03074172545871384, -0.029077643453826196, -0.02776389450259911, -0.027150811658693135, -0.026975645131862857, -0.02645014555137202, -0.025749479444050906, -0.024698480283069237, -0.023822647648917845, -0.02320956480501187, -0.02320956480501187, -0.02242131543427562, -0.022070982380615063, -0.022070982380615063, -0.022070982380615063, -0.02154548280012423, -0.018917984897670055, -0.018129735526933803, -0.017866985736688386, -0.017691819209858108, -0.014538821726913098, -0.014100905409837402, -0.013575405829346568, -0.013049906248855731, -0.01217407361470434, -0.011823740561043784, -0.011560990770798366, -0.010072075292741001, -0.008933492868344193, -0.008057660234192802, -0.006743911282965714, -0.006743911282965714, -0.006743911282965714, -0.00613082843905974, -0.0045543296975872356, -0.003152997482945009, -0.0019268317951330611, -0.00017516652683027828, 0.0, 8.758326341513914e-05, 0.0010509991609816698, 0.002452331375623896, 0.003328164009775287, 0.004203996643926679, 0.004641912961002375, 0.006393578229305157, 0.006393578229305157, 0.0069190778097959925, 0.008407993287853358, 0.008495576551268497, 0.008583159814683636, 0.008933492868344193, 0.010422408346401558, 0.010422408346401558, 0.011911323824458923, 0.012086490351289201, 0.01217407361470434, 0.01217407361470434, 0.012962322985440592, 0.012962322985440592, 0.012962322985440592, 0.012962322985440592, 0.012962322985440592, 0.012962322985440592, 0.012962322985440592, 0.012962322985440592, 0.012962322985440592, 0.012962322985440592, 0.012962322985440592, 0.012962322985440592, 0.012962322985440592, 0.012962322985440592, 0.012962322985440592, 0.012962322985440592, 0.014013322146422263, 0.016115320468385604, 0.01926831795133061, 0.01953106774157603, 0.02539914639039035, 0.026099812497711462, 0.026099812497711462, 0.026975645131862857, 0.027413561448938552, 0.029252809980656474, 0.029252809980656474, 0.02960314303431703, 0.03047897566846842, 0.03074172545871384, 0.03214305767335606, 0.0331064735709226, 0.035296055156301076, 0.03687255389777358, 0.039237302009982336, 0.039237302009982336, 0.039237302009982336, 0.03976280159047317, 0.04098896727828512, 0.04098896727828512, 0.04098896727828512, 0.04247788275634248, 0.04256546601975762, 0.043178548863663596, 0.043353715390493874, 0.04361646518073929, 0.04493021413196638, 0.04510538065879666, 0.047207378980759995, 0.04799562835149625, 0.04799562835149625, 0.04799562835149625, 0.048345961405156804, 0.04843354466857194, 0.04860871119540222, 0.04887146098564764, 0.04895904424906278, 0.04904662751247792, 0.04974729361979903, 0.05053554299053528, 0.05158654215151695, 0.0552650392149528, 0.05535262247836794, 0.057279454273501, 0.05894353627838864, 0.05894353627838864, 0.059731785649124895, 0.06025728522961573, 0.06025728522961573, 0.06025728522961573, 0.06034486849303087, 0.06043245175644601, 0.06113311786376712, 0.06192136723450337, 0.06297236639548504, 0.06332269944914559, 0.06524953124427867, 0.06551228103452408, 0.06551228103452408, 0.06551228103452408, 0.06603778061501492, 0.06612536387843006, 0.0662129471418452, 0.06875286178088423, 0.06875286178088423, 0.06901561157112965, 0.06901561157112965, 0.07111760989309299, 0.0713803596833384, 0.07330719147847146, 0.074270607376038, 0.07602227264434078, 0.07733602159556786, 0.07733602159556786, 0.07908768686387065, 0.07917527012728579, 0.0798759362346069, 0.08127726844924912, 0.0814524349760794, 0.0814524349760794, 0.08180276802973996, 0.08259101740047621, 0.0830289337175519, 0.0830289337175519, 0.0830289337175519, 0.0830289337175519, 0.08320410024438218, 0.0839047663517033, 0.08478059898585469, 0.08486818224926983, 0.08626951446391205, 0.08653226425415747, 0.08653226425415747, 0.08723293036147858, 0.08758326341513914, 0.08854667931270567, 0.09003559479076303, 0.09178726005906582, 0.09178726005906582, 0.09178726005906582, 0.09441475796151999, 0.09441475796151999, 0.09546575712250166, 0.09634158975665305, 0.09721742239080444, 0.09791808849812556, 0.09993250355667375, 0.1000200868200889, 0.10080833619082515, 0.10264758472254307, 0.1027351679859582, 0.1027351679859582, 0.10299791777620362, 0.10352341735669446, 0.10378616714693988, 0.10492474957133668, 0.10509991609816696, 0.10536266588841238, 0.10545024915182752, 0.10571299894207294, 0.10623849852256377, 0.10641366504939405, 0.10842808010794226, 0.11000457884941477, 0.11175624411771755, 0.11473407507383228, 0.11534715791773825, 0.1161354072884745, 0.11727398971287131, 0.11744915623970159, 0.11806223908360756, 0.11806223908360756, 0.11806223908360756, 0.11806223908360756, 0.11806223908360756, 0.11806223908360756, 0.11806223908360756, 0.11806223908360756, 0.11806223908360756, 0.11806223908360756, 0.12086490351289202, 0.12147798635679799, 0.12209106920070396, 0.12322965162510077, 0.12506890015681868, 0.1264702323714609, 0.12682056542512146, 0.12839706416659397, 0.12857223069342424, 0.1286598139568394, 0.12918531353733023, 0.13295139386418123, 0.1355788917666354, 0.13811880640567442, 0.13811880640567442, 0.13908222230324097, 0.1398704716739772, 0.13995805493739236, 0.14170972020569514, 0.14214763652277082, 0.14398688505448876, 0.1460888833764521, 0.14810329843500028, 0.1483660482252457, 0.151694212235021, 0.1525700448691724, 0.15292037792283295, 0.15309554444966322, 0.15370862729356918, 0.15397137708381461, 0.15432171013747517, 0.15449687666430545, 0.15554787582528712, 0.1566864582496839, 0.1572995410935899, 0.15738712435700503, 0.15747470762042018, 0.15747470762042018, 0.15747470762042018, 0.15966428920579864, 0.1607152883667803, 0.1620290373180074, 0.16272970342532853, 0.16325520300581936, 0.16334278626923449, 0.1647441184838767, 0.1653572013277827, 0.16544478459119782, 0.1700866975522002, 0.1709625301863516, 0.17140044650342728, 0.171838362820503, 0.17262661219123926, 0.17280177871806954, 0.17288936198148466, 0.17306452850831494, 0.17437827745954204, 0.175604443147354, 0.1771809418888265, 0.1771809418888265, 0.1774436916790719, 0.17937052347420496, 0.18401243643520734, 0.18812884981571887, 0.18812884981571887, 0.18812884981571887, 0.1886543493962097, 0.1895301820303611, 0.1895301820303611, 0.19031843140109736, 0.1915445970889093, 0.19207009666940014, 0.19207009666940014, 0.1942596782547786, 0.19636167657674194, 0.19688717615723278, 0.19688717615723278, 0.19837609163529016, 0.2013539225914049, 0.20249250501580168, 0.2027552548060471, 0.2036310874401985, 0.2040690037572742, 0.2045069200743499, 0.20897366650852198, 0.2092364162987674, 0.2094991660890128, 0.2096743326158431, 0.2101122489329188, 0.21309007988903353, 0.21335282967927893, 0.2144038288402606, 0.2144038288402606, 0.21536724473782715, 0.21641824389880882, 0.21650582716222397, 0.21895815853784786, 0.22211115602079287, 0.22211115602079287, 0.2230745719183594, 0.22342490497201994, 0.22412557107934106, 0.22578965308422871, 0.22719098529887094, 0.23104464888913706, 0.23104464888913706, 0.23148256520621274, 0.2318328982598733, 0.23262114763060956, 0.2338473133184215, 0.23516106226964859, 0.23577414511355457, 0.2362996446940454, 0.2367375610111211, 0.2371754773281968, 0.2378761434355179, 0.23910230912332986, 0.24094155765504777, 0.24111672418187804, 0.2414670572355386, 0.24243047313310515, 0.2427808061867657, 0.2430435559770111, 0.24444488819165333, 0.24453247145506848, 0.24567105387946528, 0.24715996935752266, 0.251801882318525, 0.2531156312697521, 0.2531156312697521, 0.2541666304307338, 0.25451696348439434, 0.2560934622258668, 0.2562686287526971, 0.25679412833318793, 0.25766996096733935, 0.2581954605478302, 0.25959679276247244, 0.26126087476736004, 0.26152362455760547, 0.263100123299078, 0.2638007894063991, 0.2646766220405505, 0.26634070404543814, 0.26765445299666524, 0.27150811658693136, 0.2747486973332915, 0.2770258621820851, 0.2792154437674636, 0.28140502535284206, 0.28245602451382373, 0.28376977346505083, 0.2846456060992022, 0.2848207726260325, 0.2875358537919018, 0.29077643453826196, 0.29305359938705555, 0.29322876591388586, 0.29349151570413123, 0.2951555977090189, 0.3007609265675878, 0.3036511742602874, 0.30794275416762923, 0.30934408638227145, 0.3107454185969137, 0.31118333491398936, 0.3112709181774045, 0.3170514135628037, 0.3195913282018427, 0.32169332652380606, 0.32169332652380606, 0.3246711574799208, 0.33395498340192553, 0.3356190654068132, 0.33579423193364344, 0.3370203976214554, 0.3410492277385518, 0.34139956079221234, 0.34227539342636376, 0.3457787239629693, 0.34735522270444186, 0.35208471892885934, 0.35225988545568965, 0.3526102185093502, 0.35453705030448324, 0.35453705030448324, 0.35462463356789836, 0.3560259657825406, 0.35611354904595577, 0.3597920461093916, 0.3604927122167127, 0.36329537664599715, 0.36767453981675413, 0.36776212308016926, 0.3696889548753023, 0.3704772042460386, 0.3710027038265294, 0.37144062014360507, 0.3716157866704354, 0.3724040360411716, 0.3729295356216625, 0.37713353226558916, 0.3817754452265915, 0.3840526100753851, 0.3860670251339333, 0.3868552745046696, 0.38878210629980264, 0.38878210629980264, 0.39018343851444487, 0.3983286820120528, 0.39885418159254366, 0.4084007573047938, 0.4084007573047938, 0.411028255207248, 0.41181650457798424, 0.4120792543682297, 0.41365575310970215, 0.4150570853243444, 0.4158453346950806, 0.4171590836463077, 0.41812249954387426, 0.4184728325975348, 0.42110033049998896, 0.42731874220246385, 0.4302089898951635, 0.43117240579273, 0.4370404844415443, 0.4377411505488654, 0.4452733112025674, 0.44728772626111557, 0.4495648911099092, 0.44974005763673947, 0.45096622332455144, 0.4650671287343888, 0.4686580425344095, 0.4686580425344095, 0.47277445591492107, 0.47356270528565736, 0.4813576157296047, 0.4826713646808318, 0.48389753036864375, 0.49799843577848113, 0.5232224156420412, 0.5236603319591169, 0.5317179921933097, 0.5363599051543121, 0.5365350716811423, 0.5378488206323695, 0.5386370700031057, 0.539425319373842, 0.539425319373842, 0.5437168992811838, 0.5515993929885463, 0.5616714682812873, 0.5763854565350307, 0.5786626213838243, 0.5932890263741525, 0.5961792740668521, 0.5984564389156457, 0.6016094363985908, 0.614309009593786, 0.6165861744425796, 0.6291105811109444, 0.6301615802719261, 0.6312125794329078, 0.6320884120670591, 0.6409343216719883, 0.652758062233032, 0.6648445525843212, 0.6701871316526447, 0.6715884638672869, 0.6733401291355897, 0.6981261926820741, 0.7051328537552852, 0.7136284303065538, 0.7198468420090286, 0.7416550745993983, 0.7824688753508531, 0.788074204209422, 0.8187283464047207, 0.8483314894390377, 0.8621696450586297, 0.8693514726586711, 0.9150699361613738, 0.9615766490348127, 1.0023028665228524, 1.0114115259180267, 1.0450434990694402, 1.0510867442450849, 1.0582685718451261, 1.0722818939915484, 1.0770989734793812, 1.0797264713818353, 1.0877841316160282, 1.1357797599675243, 1.1821988895775482, 1.2820438098708067, 1.3617445795785834, 1.3700649896030215, 1.3867933929153131, 1.3984419669495267, 1.4649176638816173, 1.593840227628702, 1.685627487687768, 1.9546832728990753, 2.0333330434458703, 2.206923071534676, 2.597018926785706, 2.6837263575666936, 3.1659598059304495, 3.2525796534480222, 3.5750612293425648, 3.8234473643878992, 3.833957355997716, 3.8582179199637094, 5.369642296718766, 9.25728819318996, 13.097901877207228, 13.593623148136915, 18.02402252799173]\n"
     ]
    }
   ],
   "source": [
    "print(df_2[\"LotArea\"].sort_values().to_list())"
   ]
  },
  {
   "cell_type": "code",
   "execution_count": 275,
   "metadata": {},
   "outputs": [
    {
     "ename": "AttributeError",
     "evalue": "'DataFrame' object has no attribute 'significant'",
     "output_type": "error",
     "traceback": [
      "\u001b[1;31m---------------------------------------------------------------------------\u001b[0m",
      "\u001b[1;31mAttributeError\u001b[0m                            Traceback (most recent call last)",
      "Cell \u001b[1;32mIn [275], line 1\u001b[0m\n\u001b[1;32m----> 1\u001b[0m \u001b[43mdf\u001b[49m\u001b[38;5;241;43m.\u001b[39;49m\u001b[43msignificant\u001b[49m\n",
      "File \u001b[1;32m~\\AppData\\Local\\Packages\\PythonSoftwareFoundation.Python.3.10_qbz5n2kfra8p0\\LocalCache\\local-packages\\Python310\\site-packages\\pandas\\core\\generic.py:5575\u001b[0m, in \u001b[0;36mNDFrame.__getattr__\u001b[1;34m(self, name)\u001b[0m\n\u001b[0;32m   5568\u001b[0m \u001b[39mif\u001b[39;00m (\n\u001b[0;32m   5569\u001b[0m     name \u001b[39mnot\u001b[39;00m \u001b[39min\u001b[39;00m \u001b[39mself\u001b[39m\u001b[39m.\u001b[39m_internal_names_set\n\u001b[0;32m   5570\u001b[0m     \u001b[39mand\u001b[39;00m name \u001b[39mnot\u001b[39;00m \u001b[39min\u001b[39;00m \u001b[39mself\u001b[39m\u001b[39m.\u001b[39m_metadata\n\u001b[0;32m   5571\u001b[0m     \u001b[39mand\u001b[39;00m name \u001b[39mnot\u001b[39;00m \u001b[39min\u001b[39;00m \u001b[39mself\u001b[39m\u001b[39m.\u001b[39m_accessors\n\u001b[0;32m   5572\u001b[0m     \u001b[39mand\u001b[39;00m \u001b[39mself\u001b[39m\u001b[39m.\u001b[39m_info_axis\u001b[39m.\u001b[39m_can_hold_identifiers_and_holds_name(name)\n\u001b[0;32m   5573\u001b[0m ):\n\u001b[0;32m   5574\u001b[0m     \u001b[39mreturn\u001b[39;00m \u001b[39mself\u001b[39m[name]\n\u001b[1;32m-> 5575\u001b[0m \u001b[39mreturn\u001b[39;00m \u001b[39mobject\u001b[39;49m\u001b[39m.\u001b[39;49m\u001b[39m__getattribute__\u001b[39;49m(\u001b[39mself\u001b[39;49m, name)\n",
      "\u001b[1;31mAttributeError\u001b[0m: 'DataFrame' object has no attribute 'significant'"
     ]
    }
   ],
   "source": []
  },
  {
   "cell_type": "code",
   "execution_count": null,
   "metadata": {},
   "outputs": [],
   "source": []
  },
  {
   "cell_type": "markdown",
   "metadata": {},
   "source": [
    "https://medium.com/analytics-vidhya/removing-outliers-understanding-how-and-what-behind-the-magic-18a78ab480ff"
   ]
  }
 ],
 "metadata": {
  "kernelspec": {
   "display_name": "Python 3.10.7 64-bit (microsoft store)",
   "language": "python",
   "name": "python3"
  },
  "language_info": {
   "codemirror_mode": {
    "name": "ipython",
    "version": 3
   },
   "file_extension": ".py",
   "mimetype": "text/x-python",
   "name": "python",
   "nbconvert_exporter": "python",
   "pygments_lexer": "ipython3",
   "version": "3.10.7"
  },
  "orig_nbformat": 4,
  "vscode": {
   "interpreter": {
    "hash": "667a7d0ce390a48f63afb7aae6a889c6556871eaae12ddfa514ec638112817df"
   }
  }
 },
 "nbformat": 4,
 "nbformat_minor": 2
}
