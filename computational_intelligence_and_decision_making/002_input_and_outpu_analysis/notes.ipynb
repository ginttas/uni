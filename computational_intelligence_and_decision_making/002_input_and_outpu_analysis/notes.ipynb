{
 "cells": [
  {
   "cell_type": "markdown",
   "metadata": {},
   "source": [
    "2022-09-18\\\n",
    "Kaunas\n",
    "\n",
    "----\n",
    "\n",
    "**Predictive data analytics** is the art of building and using models that make predictions based on patterns extracted from historical data.\n",
    "\n",
    "**Supervised machine learning** - automatically learn a model of the relationship between a set of descriptive features and a target feature based on a set of historical examples.\n",
    "\n",
    "* Features\n",
    "    * Raw features - come directly from raw data sources\n",
    "    * Derived features - constructed from data in one or more raw data sources\n",
    "        * Aggregates (count, sum, average, minimum, maximum)\n",
    "        * Flags (binary features that indicate presence or absence of some characteristic)\n",
    "        * Ratios (continuous features that capture the relationship between two or more raw data values)\n",
    "        * Mappings (convert continuous features into categorical features)\n",
    "\n",
    "* Types of Data\n",
    "    * Continuous\n",
    "        * Numeric: True numeric values that allow arithmetic operations; \n",
    "        * Interval: Values that allow ordering and subtraction, but do not allow other arithmetic operations;\n",
    "    * Categorical\n",
    "        * Ordinal: Values that allow ordering but do not permit arithmetic;\n",
    "        * Categorical: Values that cannot be ordered and allow no arithmetic;\n",
    "        * Binary: A set of just two values;\n",
    "        * Textual: Free-form, usually short, text data\n",
    "\n",
    "* Data quality report\n",
    "    * Mean\n",
    "    * Median\n",
    "    * Mode\n",
    "    * Standard Deviation\n",
    "    * Quartile\n",
    "    * Boxplot\n",
    "    * Histogram\n",
    "    * Distributions\n",
    "\n",
    "* Data Quality Issues\n",
    "    * missing values \n",
    "    * irregular cardinality* problems\n",
    "    * outliers\n",
    "\n",
    "Data Standardization and Normalization\n"
   ]
  },
  {
   "cell_type": "markdown",
   "metadata": {},
   "source": []
  }
 ],
 "metadata": {
  "kernelspec": {
   "display_name": "Python 3.10.7 64-bit (microsoft store)",
   "language": "python",
   "name": "python3"
  },
  "language_info": {
   "name": "python",
   "version": "3.10.7"
  },
  "orig_nbformat": 4,
  "vscode": {
   "interpreter": {
    "hash": "667a7d0ce390a48f63afb7aae6a889c6556871eaae12ddfa514ec638112817df"
   }
  }
 },
 "nbformat": 4,
 "nbformat_minor": 2
}
