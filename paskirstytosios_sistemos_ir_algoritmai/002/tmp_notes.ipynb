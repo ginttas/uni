{
 "cells": [
  {
   "cell_type": "markdown",
   "metadata": {},
   "source": [
    "# Socketai\n",
    "\n",
    "Viena is senesniu technologiju\n",
    "\n",
    "# Network comunication\n",
    "Skaires is nmoodle\n",
    "\n",
    "Vienma is pagrindinu problemu yra uztikrinti rysi tarp pakirstytu mazgu\n",
    "\n",
    "Networks:\n",
    "* **Transport Layer** (4) (TCP, UDP)\n",
    "* Network layer (3) (IPv4, IPv6)\n",
    "* Data link layer (2) (Ethernet, Wi-Fi, ATM)\n",
    "\n",
    "TCP - reliable in-oreder byte stream\n",
    "UDP - Unreliable, message stream\n",
    "Max ilgis 1024 baitia\n",
    "\n",
    "Pirmo lab metuy uzmegsti rysi taerp dvieju mazgu su TCP/UDF\n",
    "\n",
    "https://realpython.com/python-sockets/\n",
    "\n",
    "Srver/Client\n",
    "\n",
    "Klientas praso serverio kad kazka jis atliktu ir grzintu rrezultata\n",
    "\n",
    "Klientas gali buti serveruis kitam mazgui\n",
    "\n",
    "emse skaidyti atsiranda kai i viena serveri gali kreiptis keli kientai\n",
    "\n",
    "OS uzsirezervojam koki porta\n",
    "kai ateis paketas i porta (klausoim) (primam komuinikacija)\n",
    "serversi susirisa su klientu\n",
    "\n",
    "https://www.geeksforgeeks.org/socket-programming-in-c-sharp/#:~:text=Socket%20programming%20is%20a%20way,shows%20them%20using%20socket%20connection.\n",
    "\n",
    "----\n",
    "\n",
    "Skirtumas tarp serverio iur kliento rtaS KAD SERVERIS UZMEZGA RYSI\n",
    "\n",
    "Uzduotis:\n",
    "Yra moodle Informacija semestrinaiAtrsiskaitymai PirmojiDalis\n",
    "Atasikaita PDF\n",
    "\n",
    "Pirmoj dasly reikia:\n",
    "Susigaslvoti uzduoti\n",
    "Sukurti klioento serverio sistema kuri realziuotu:\n",
    "\n",
    "Variiantas yra liekana is 8Daugleypis turietu veikti bent su deveis kleintais\n",
    "\n",
    "----\n",
    "\n",
    "Sekanti karta bus atra labn dalis\n",
    "\n",
    "----\n",
    "\n",
    "Taip pat, nepamirsti staripsniu!!!!!!\n",
    "\n",
    "Ne senesnis nei 10 metu\n",
    "\n",
    "Reikai 2 styraipsniu\n"
   ]
  }
 ],
 "metadata": {
  "kernelspec": {
   "display_name": "Python 3.10.7 64-bit (microsoft store)",
   "language": "python",
   "name": "python3"
  },
  "language_info": {
   "name": "python",
   "version": "3.10.7"
  },
  "orig_nbformat": 4,
  "vscode": {
   "interpreter": {
    "hash": "667a7d0ce390a48f63afb7aae6a889c6556871eaae12ddfa514ec638112817df"
   }
  }
 },
 "nbformat": 4,
 "nbformat_minor": 2
}
