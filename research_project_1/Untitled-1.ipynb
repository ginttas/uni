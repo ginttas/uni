{
 "cells": [
  {
   "cell_type": "markdown",
   "metadata": {},
   "source": [
    "2022-09-09\n",
    "\n",
    "### How will research projects 1, 2, 3 will proceed\n",
    "- The outcome of these projects should be some kind of scientific novelty (mokslo naujovė)\n",
    "- This could be some kind of improvement to existing solution, but it shouldn't had been presented anywhere else.\n",
    "- In moodle there should be a list of topics (It just started to be entered, in a week or two there should be much more)\n",
    "- We can select a topic form a list, or we can propose our own topic\n",
    "- A mentor can only be person with Doctors degree\n",
    "- Currently at this program there are 30 lt and 8 en students\n",
    "- There is a list of old topics at moodle\n",
    "- During project lessons we discus about our research\n",
    "    - Help for choosing topic\n",
    "    - Help to formulate goals\n",
    "    - etc.\n",
    "- Master degree topic and supervisor should be selected by 2022-10-14 (2022-10-21 submitted to ktu)\n",
    "- Presentation and initial review (by 2022-11-11)\n",
    "- Topic can be corrected (If in the same field only my supervisor should approve, else a bit more hassle)\n",
    "- 3, 4, 5 week there will be more details to what has to be done\n",
    "- Before selecting topic we have to define what we want to do, what already exists, ..., feasibility analysis\n",
    "- During presentation we need to have 2-3 slides a bout our topic\n",
    "    - Title\n",
    "    - Main idea\n",
    "    - etc.\n",
    "- 2022-12-09/16 Another presentation\n",
    "\n",
    "### Grading\n",
    "- 10% Private defense (In class)\n",
    "- 90% Public defense (As in bachelor's final work)\n",
    "\n",
    "### What we will present?\n",
    "- Depends on the topic\n",
    "- In most cases slides are sufficient\n",
    "- Commission can ask for actual \"work\" if it's needed\n",
    "- Difference form bachelor's project - we don't need complete project\n",
    "- We just need to show some results (That our algorithm is working)\n",
    "- The product is our novelty\n",
    "- The first semester only analysis or also results? In short - initial review of our field, what is used, what exist, etc\n",
    "- Next semester - to start implementation, choose technologies\n",
    "- Next one would be - experimentation\n",
    "- Final semester - for finalization"
   ]
  },
  {
   "cell_type": "markdown",
   "metadata": {},
   "source": []
  },
  {
   "cell_type": "markdown",
   "metadata": {},
   "source": []
  }
 ],
 "metadata": {
  "kernelspec": {
   "display_name": "Python 3.10.7 64-bit (microsoft store)",
   "language": "python",
   "name": "python3"
  },
  "language_info": {
   "name": "python",
   "version": "3.10.7"
  },
  "orig_nbformat": 4,
  "vscode": {
   "interpreter": {
    "hash": "667a7d0ce390a48f63afb7aae6a889c6556871eaae12ddfa514ec638112817df"
   }
  }
 },
 "nbformat": 4,
 "nbformat_minor": 2
}
